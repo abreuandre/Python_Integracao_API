{
 "cells": [
  {
   "cell_type": "markdown",
   "id": "c87060b8-5321-4563-8dfb-bfae99784415",
   "metadata": {},
   "source": [
    "O que é uma API?\n",
    "\n",
    "É um conjunto de códigos para usar um serviço, site ou aplicativo específico, ou seja, um site, ferramenta ou plataforma disponibiliza pra gente os códigos deles para que a gente através dos nossos códigos possamos interagir com aquele site ou ferramenta. Cada site ou ferramenta tem sua própria API. É importante que você saiba ler as APIs que precisar para saber usar.\n",
    "Um dos padrões mais comuns em API é pegar informações em formato json, uma espécie de dicionário que precisa ser tratada no Python para podermos analisar.\n",
    "As possibilidades de API são infinitas, vamos fazer 2 exemplos aqui: Cotação de Moedas e Envio de SMS.\n",
    "Sites como Google, UouTube, Facebook, Twitter, ArcGis e praticamente qualquer ferramenta ou site grande tem uma API."
   ]
  },
  {
   "cell_type": "markdown",
   "id": "0bf4b7ba-8151-44ac-b037-9091de8984a2",
   "metadata": {},
   "source": [
    "O que precisamos:\n",
    "\n",
    "Quase sempre você precisa de uma conta para consumir uma API. Algumas APIs são abertas, como a https://docs.awesomeapi.com.br/api-de-moedas, mas em muitos casos (como veremos no caso do SMS) vamos precisar ter uma conta ativa para consumir a API.\n",
    "A documentação da API (ou exemplos da internet) é a chave para conseguir usar uma API"
   ]
  },
  {
   "cell_type": "code",
   "execution_count": null,
   "id": "4be8aca8-ecd1-47f3-9b69-f4bc741fa5f3",
   "metadata": {},
   "outputs": [],
   "source": [
    "Pegar a Cotação Atual de "
   ]
  }
 ],
 "metadata": {
  "kernelspec": {
   "display_name": "Python [conda env:base] *",
   "language": "python",
   "name": "conda-base-py"
  },
  "language_info": {
   "codemirror_mode": {
    "name": "ipython",
    "version": 3
   },
   "file_extension": ".py",
   "mimetype": "text/x-python",
   "name": "python",
   "nbconvert_exporter": "python",
   "pygments_lexer": "ipython3",
   "version": "3.12.7"
  }
 },
 "nbformat": 4,
 "nbformat_minor": 5
}
