{
 "cells": [
  {
   "cell_type": "markdown",
   "id": "c87060b8-5321-4563-8dfb-bfae99784415",
   "metadata": {},
   "source": [
    "O que é uma API?\n",
    "\n",
    "É um conjunto de códigos para usar um serviço, site ou aplicativo específico, ou seja, um site, ferramenta ou plataforma disponibiliza pra gente os códigos deles para que a gente através dos nossos códigos possamos interagir com aquele site ou ferramenta. Cada site ou ferramenta tem sua própria API. É importante que você saiba ler as APIs que precisar para saber usar.\n",
    "Um dos padrões mais comuns em API é pegar informações em formato json, uma espécie de dicionário que precisa ser tratada no Python para podermos analisar.\n",
    "As possibilidades de API são infinitas, vamos fazer 2 exemplos aqui: Cotação de Moedas e Envio de SMS.\n",
    "Sites como Google, UouTube, Facebook, Twitter, ArcGis e praticamente qualquer ferramenta ou site grande tem uma API."
   ]
  },
  {
   "cell_type": "markdown",
   "id": "0bf4b7ba-8151-44ac-b037-9091de8984a2",
   "metadata": {},
   "source": [
    "O que precisamos:\n",
    "\n",
    "Quase sempre você precisa de uma conta para consumir uma API. Algumas APIs são abertas, como a https://docs.awesomeapi.com.br/api-de-moedas, mas em muitos casos (como veremos no caso do SMS) vamos precisar ter uma conta ativa para consumir a API.\n",
    "A documentação da API (ou exemplos da internet) é a chave para conseguir usar uma API"
   ]
  },
  {
   "cell_type": "markdown",
   "id": "a37eb432-dec8-40e3-988a-f1550a023ea0",
   "metadata": {},
   "source": [
    "Pegar a Cotação Atual de todas as Moedas"
   ]
  },
  {
   "cell_type": "code",
   "execution_count": 13,
   "id": "71bff545-31e4-409d-a191-5d25c522a146",
   "metadata": {},
   "outputs": [
    {
     "name": "stdout",
     "output_type": "stream",
     "text": [
      "{'USD': {'code': 'USD', 'codein': 'BRL', 'name': 'Dólar Americano/Real Brasileiro', 'high': '5.6787', 'low': '5.6176', 'varBid': '-0.01393', 'pctChange': '-0.246656', 'bid': '5.6337', 'ask': '5.6367', 'timestamp': '1745954064', 'create_date': '2025-04-29 16:14:24'}, 'USDT': {'code': 'USD', 'codein': 'BRLT', 'name': 'Dólar Americano/Real Brasileiro Turismo', 'high': '5.71935', 'low': '5.65983', 'varBid': '-0.01403', 'pctChange': '-0.246654', 'bid': '5.67403', 'ask': '5.84936', 'timestamp': '1745954064', 'create_date': '2025-04-29 16:14:24'}, 'CAD': {'code': 'CAD', 'codein': 'BRL', 'name': 'Dólar Canadense/Real Brasileiro', 'high': '4.1046', 'low': '4.05261', 'varBid': '-0.018125', 'pctChange': '-0.443751', 'bid': '4.06633', 'ask': '4.07677', 'timestamp': '1745953986', 'create_date': '2025-04-29 16:13:06'}, 'GBP': {'code': 'GBP', 'codein': 'BRL', 'name': 'Libra Esterlina/Real Brasileiro', 'high': '7.62103', 'low': '7.52445', 'varBid': '-0.04426', 'pctChange': '-0.582772', 'bid': '7.55046', 'ask': '7.55448', 'timestamp': '1745954064', 'create_date': '2025-04-29 16:14:24'}, 'ARS': {'code': 'ARS', 'codein': 'BRL', 'name': 'Peso Argentino/Real Brasileiro', 'high': '0.00484165', 'low': '0.00476417', 'varBid': '0.000037', 'pctChange': '0.777812', 'bid': '0.00483798', 'ask': '0.00483801', 'timestamp': '1745954036', 'create_date': '2025-04-29 16:13:56'}, 'BTC': {'code': 'BTC', 'codein': 'BRL', 'name': 'Bitcoin/Real Brasileiro', 'high': '541935', 'low': '534700', 'varBid': '3075', 'pctChange': '0.574', 'bid': '538826', 'ask': '538837', 'timestamp': '1745954067', 'create_date': '2025-04-29 16:14:27'}, 'LTC': {'code': 'LTC', 'codein': 'BRL', 'name': 'Litecoin/Real Brasileiro', 'high': '493.4', 'low': '480.1', 'varBid': '4.8', 'pctChange': '0.99', 'bid': '489.9', 'ask': '490.2', 'timestamp': '1745954042', 'create_date': '2025-04-29 16:14:02'}, 'EUR': {'code': 'EUR', 'codein': 'BRL', 'name': 'Euro/Real Brasileiro', 'high': '6.46412', 'low': '6.39795', 'varBid': '-0.03715', 'pctChange': '-0.576564', 'bid': '6.40615', 'ask': '6.42261', 'timestamp': '1745953986', 'create_date': '2025-04-29 16:13:06'}, 'JPY': {'code': 'JPY', 'codein': 'BRL', 'name': 'Iene Japonês/Real Brasileiro', 'high': '0.039868', 'low': '0.03948521', 'varBid': '-0.000104', 'pctChange': '-0.2609', 'bid': '0.03959392', 'ask': '0.039615', 'timestamp': '1745954064', 'create_date': '2025-04-29 16:14:24'}, 'CHF': {'code': 'CHF', 'codein': 'BRL', 'name': 'Franco Suíço/Real Brasileiro', 'high': '6.88853', 'low': '6.81649', 'varBid': '-0.04658', 'pctChange': '-0.677311', 'bid': '6.83064', 'ask': '6.84819', 'timestamp': '1745953986', 'create_date': '2025-04-29 16:13:06'}, 'AUD': {'code': 'AUD', 'codein': 'BRL', 'name': 'Dólar Australiano/Real Brasileiro', 'high': '3.6437', 'low': '3.58518', 'varBid': '-0.036875', 'pctChange': '-1.015566', 'bid': '3.59411', 'ask': '3.60334', 'timestamp': '1745953986', 'create_date': '2025-04-29 16:13:06'}, 'CNY': {'code': 'CNY', 'codein': 'BRL', 'name': 'Yuan Chinês/Real Brasileiro', 'high': '0.77595873', 'low': '0.77290508', 'varBid': '0.00043', 'pctChange': '0.055527', 'bid': '0.77471454', 'ask': '0.77502063', 'timestamp': '1745949596', 'create_date': '2025-04-29 14:59:56'}, 'ILS': {'code': 'ILS', 'codein': 'BRL', 'name': 'Novo Shekel Israelense/Real Brasileiro', 'high': '1.567889', 'low': '1.548896', 'varBid': '-0.007992', 'pctChange': '-0.512074', 'bid': '1.552715', 'ask': '1.557414', 'timestamp': '1745953956', 'create_date': '2025-04-29 16:12:36'}, 'ETH': {'code': 'ETH', 'codein': 'BRL', 'name': 'Ethereum/Real Brasileiro', 'high': '10458.02', 'low': '10103.96', 'varBid': '140.56', 'pctChange': '1.383', 'bid': '10301.68', 'ask': '10302.78', 'timestamp': '1745954067', 'create_date': '2025-04-29 16:14:27'}, 'XRP': {'code': 'XRP', 'codein': 'BRL', 'name': 'XRP/Real Brasileiro', 'high': '13.144', 'low': '12.835', 'varBid': '-0.001', 'pctChange': '-0.008', 'bid': '12.964', 'ask': '12.966', 'timestamp': '1745954067', 'create_date': '2025-04-29 16:14:27'}, 'DOGE': {'code': 'DOGE', 'codein': 'BRL', 'name': 'Dogecoin/Real Brasileiro', 'high': '1.025', 'low': '1.0024', 'varBid': '0.0045', 'pctChange': '0.447', 'bid': '1.0106', 'ask': '1.0108', 'timestamp': '1745954067', 'create_date': '2025-04-29 16:14:27'}}\n"
     ]
    }
   ],
   "source": [
    "import requests # Para pegar(GET) a cotação atual de todas as moedas que essa API tem disponíveis.\n",
    "import json # Como as informações das APIs vem em formato json então importamos a biblioteca json para fazer tratamento.\n",
    "\n",
    "cotacoes = requests.get('https://economia.awesomeapi.com.br/json/all')\n",
    "# print(cotacoes) O resulado vem como <Response [200]> que diz que a requisição está Ok mas não mostra o resultado que queremos ver. Verificar solução abaixo.\n",
    "cotacoes_dic = cotacoes.json()\n",
    "print(cotacoes_dic)"
   ]
  },
  {
   "cell_type": "code",
   "execution_count": null,
   "id": "33bdeb49-76e8-4e46-bc5f-556becbc7ddd",
   "metadata": {},
   "outputs": [],
   "source": []
  }
 ],
 "metadata": {
  "kernelspec": {
   "display_name": "Python [conda env:base] *",
   "language": "python",
   "name": "conda-base-py"
  },
  "language_info": {
   "codemirror_mode": {
    "name": "ipython",
    "version": 3
   },
   "file_extension": ".py",
   "mimetype": "text/x-python",
   "name": "python",
   "nbconvert_exporter": "python",
   "pygments_lexer": "ipython3",
   "version": "3.12.7"
  }
 },
 "nbformat": 4,
 "nbformat_minor": 5
}
