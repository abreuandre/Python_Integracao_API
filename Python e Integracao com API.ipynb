{
 "cells": [
  {
   "cell_type": "markdown",
   "id": "c87060b8-5321-4563-8dfb-bfae99784415",
   "metadata": {},
   "source": [
    "O que é uma API?\n",
    "\n",
    "É um conjunto de códigos para usar um serviço, site ou aplicativo específico, ou seja, um site, ferramenta ou plataforma disponibiliza pra gente os códigos deles para que a gente através dos nossos códigos possamos interagir com aquele site ou ferramenta. Cada site ou ferramenta tem sua própria API. É importante que você saiba ler as APIs que precisar para saber usar.\n",
    "Um dos padrões mais comuns em API é pegar informações em formato json, uma espécie de dicionário que precisa ser tratada no Python para podermos analisar.\n",
    "As possibilidades de API são infinitas, vamos fazer 2 exemplos aqui: Cotação de Moedas e Envio de SMS.\n",
    "Sites como Google, UouTube, Facebook, Twitter, ArcGis e praticamente qualquer ferramenta ou site grande tem uma API."
   ]
  },
  {
   "cell_type": "markdown",
   "id": "0bf4b7ba-8151-44ac-b037-9091de8984a2",
   "metadata": {},
   "source": [
    "O que precisamos:\n",
    "\n",
    "Quase sempre você precisa de uma conta para consumir uma API. Algumas APIs são abertas, como a https://docs.awesomeapi.com.br/api-de-moedas, mas em muitos casos (como veremos no caso do SMS) vamos precisar ter uma conta ativa para consumir a API.\n",
    "A documentação da API (ou exemplos da internet) é a chave para conseguir usar uma API"
   ]
  },
  {
   "cell_type": "markdown",
   "id": "a37eb432-dec8-40e3-988a-f1550a023ea0",
   "metadata": {},
   "source": [
    "Pegar a Cotação Atual de todas as Moedas"
   ]
  },
  {
   "cell_type": "code",
   "execution_count": 1,
   "id": "71bff545-31e4-409d-a191-5d25c522a146",
   "metadata": {},
   "outputs": [
    {
     "name": "stdout",
     "output_type": "stream",
     "text": [
      "{'USD': {'code': 'USD', 'codein': 'BRL', 'name': 'Dólar Americano/Real Brasileiro', 'high': '5.7344', 'low': '5.6256', 'varBid': '0.0361', 'pctChange': '0.638759', 'bid': '5.6877', 'ask': '5.6907', 'timestamp': '1746475531', 'create_date': '2025-05-05 17:05:31'}, 'USDT': {'code': 'USD', 'codein': 'BRLT', 'name': 'Dólar Americano/Real Brasileiro Turismo', 'high': '5.77545', 'low': '5.66794', 'varBid': '0.03635', 'pctChange': '0.638609', 'bid': '5.72841', 'ask': '5.9054', 'timestamp': '1746475531', 'create_date': '2025-05-05 17:05:31'}, 'CAD': {'code': 'CAD', 'codein': 'BRL', 'name': 'Dólar Canadense/Real Brasileiro', 'high': '4.15363', 'low': '4.0736', 'varBid': '0.020595', 'pctChange': '0.503059', 'bid': '4.11451', 'ask': '4.12512', 'timestamp': '1746475213', 'create_date': '2025-05-05 17:00:13'}, 'GBP': {'code': 'GBP', 'codein': 'BRL', 'name': 'Libra Esterlina/Real Brasileiro', 'high': '7.64269', 'low': '7.49625', 'varBid': '0.0613', 'pctChange': '0.81712', 'bid': '7.56323', 'ask': '7.56722', 'timestamp': '1746475531', 'create_date': '2025-05-05 17:05:31'}, 'ARS': {'code': 'ARS', 'codein': 'BRL', 'name': 'Peso Argentino/Real Brasileiro', 'high': '0.00489442', 'low': '0.0047189', 'varBid': '-0.000082', 'pctChange': '-1.694538', 'bid': '0.00473271', 'ask': '0.00473274', 'timestamp': '1746475532', 'create_date': '2025-05-05 17:05:32'}, 'BTC': {'code': 'BTC', 'codein': 'BRL', 'name': 'Bitcoin/Real Brasileiro', 'high': '545954', 'low': '530489', 'varBid': '-7330', 'pctChange': '-1.346', 'bid': '537068', 'ask': '537069', 'timestamp': '1746475545', 'create_date': '2025-05-05 17:05:45'}, 'LTC': {'code': 'LTC', 'codein': 'BRL', 'name': 'Litecoin/Real Brasileiro', 'high': '508.4', 'low': '476.4', 'varBid': '-15.5', 'pctChange': '-3.15', 'bid': '476.5', 'ask': '476.9', 'timestamp': '1746475545', 'create_date': '2025-05-05 17:05:45'}, 'EUR': {'code': 'EUR', 'codein': 'BRL', 'name': 'Euro/Real Brasileiro', 'high': '6.50618', 'low': '6.38162', 'varBid': '0.041088', 'pctChange': '0.643026', 'bid': '6.43087', 'ask': '6.44745', 'timestamp': '1746475213', 'create_date': '2025-05-05 17:00:13'}, 'JPY': {'code': 'JPY', 'codein': 'BRL', 'name': 'Iene Japonês/Real Brasileiro', 'high': '0.03986929', 'low': '0.0390236', 'varBid': '0.000564', 'pctChange': '1.444765', 'bid': '0.0395874', 'ask': '0.03960828', 'timestamp': '1746475531', 'create_date': '2025-05-05 17:05:31'}, 'CHF': {'code': 'CHF', 'codein': 'BRL', 'name': 'Franco Suíço/Real Brasileiro', 'high': '6.96705', 'low': '6.83023', 'varBid': '0.071602', 'pctChange': '1.047008', 'bid': '6.91034', 'ask': '6.92816', 'timestamp': '1746475213', 'create_date': '2025-05-05 17:00:13'}, 'AUD': {'code': 'AUD', 'codein': 'BRL', 'name': 'Dólar Australiano/Real Brasileiro', 'high': '3.71928', 'low': '3.64381', 'varBid': '0.032758', 'pctChange': '0.899003', 'bid': '3.67657', 'ask': '3.68605', 'timestamp': '1746475213', 'create_date': '2025-05-05 17:00:13'}, 'CNY': {'code': 'CNY', 'codein': 'BRL', 'name': 'Yuan Chinês/Real Brasileiro', 'high': '0.7841031', 'low': '0.77823001', 'varBid': '0.003256', 'pctChange': '0.418327', 'bid': '0.78148556', 'ask': '0.78162943', 'timestamp': '1746467996', 'create_date': '2025-05-05 14:59:56'}, 'ILS': {'code': 'ILS', 'codein': 'BRL', 'name': 'Novo Shekel Israelense/Real Brasileiro', 'high': '1.587116', 'low': '1.55403', 'varBid': '-0.001409', 'pctChange': '-0.089468', 'bid': '1.573501', 'ask': '1.57827', 'timestamp': '1746475203', 'create_date': '2025-05-05 17:00:03'}, 'ETH': {'code': 'ETH', 'codein': 'BRL', 'name': 'Ethereum/Real Brasileiro', 'high': '10482.2', 'low': '10138.42', 'varBid': '-84.98', 'pctChange': '-0.816', 'bid': '10331.83', 'ask': '10331.85', 'timestamp': '1746475545', 'create_date': '2025-05-05 17:05:45'}, 'XRP': {'code': 'XRP', 'codein': 'BRL', 'name': 'XRP/Real Brasileiro', 'high': '12.506', 'low': '11.979', 'varBid': '-0.197', 'pctChange': '-1.59', 'bid': '12.185', 'ask': '12.186', 'timestamp': '1746475536', 'create_date': '2025-05-05 17:05:36'}, 'DOGE': {'code': 'DOGE', 'codein': 'BRL', 'name': 'Dogecoin/Real Brasileiro', 'high': '0.9917', 'low': '0.9567', 'varBid': '-0.0093', 'pctChange': '-0.948', 'bid': '0.9703', 'ask': '0.9704', 'timestamp': '1746475545', 'create_date': '2025-05-05 17:05:45'}}\n"
     ]
    }
   ],
   "source": [
    "import requests # Para pegar(GET) a cotação atual de todas as moedas que essa API tem disponíveis.\n",
    "import json # Como as informações das APIs vem em formato json então importamos a biblioteca json para fazer tratamento.\n",
    "\n",
    "cotacoes = requests.get('https://economia.awesomeapi.com.br/json/all')\n",
    "# print(cotacoes) O resulado vem como <Response [200]> que diz que a requisição está Ok mas não mostra o resultado que queremos ver. Verificar solução abaixo.\n",
    "cotacoes_dic = cotacoes.json()\n",
    "print(cotacoes_dic)"
   ]
  },
  {
   "cell_type": "markdown",
   "id": "79367abd-3eb6-48a9-a656-d49bc2f3ac81",
   "metadata": {},
   "source": [
    "Qual foi a última cotação do Dólar, Euro e do BitCoin? (Sua resposta vai ser diferente do gabarito, porque estamos rodando o código em momentos diferentes, mas o seu código deve ser o mesmo/parecido)"
   ]
  },
  {
   "cell_type": "code",
   "execution_count": 9,
   "id": "c7ff4f48-8f01-43ae-b35b-4ca85387ed0b",
   "metadata": {},
   "outputs": [
    {
     "name": "stdout",
     "output_type": "stream",
     "text": [
      "Dólar: 5.6877\n",
      "Euro: 6.43087\n",
      "Bitcoin: 537068\n"
     ]
    }
   ],
   "source": [
    "print('Dólar: {}'.format(cotacoes_dic['USD']['bid']))\n",
    "print('Euro: {}'.format(cotacoes_dic['EUR']['bid']))\n",
    "print('Bitcoin: {}'.format(cotacoes_dic['BTC']['bid']))"
   ]
  },
  {
   "cell_type": "markdown",
   "id": "1800a7bf-9c65-4aae-9409-c4ff232a1e72",
   "metadata": {},
   "source": [
    "Pegar a cotação dos últimos 30 dias do dólar (Sua resposta vai ser diferente do gabarito, porque estamos rodando o código em momentos diferentes, mas o seu código deve ser o mesmo/parecido)"
   ]
  },
  {
   "cell_type": "code",
   "execution_count": 19,
   "id": "33685773-b6e6-49a2-9355-b879ddb562b6",
   "metadata": {},
   "outputs": [
    {
     "name": "stdout",
     "output_type": "stream",
     "text": [
      "['5.6857', '5.6516', '5.6774', '5.6725', '5.6187', '5.64763', '5.67839', '5.68393', '5.68443', '5.6788', '5.7035', '5.7198', '5.8057', '5.81464', '5.8054', '5.8067', '5.8655', '5.87641', '5.8543', '5.8642', '5.8576', '5.8838', '5.81252', '6.00467', '5.90753', '5.8356', '5.8396', '5.6307', '5.6611', '5.6812']\n"
     ]
    }
   ],
   "source": [
    "cotacoes_dolar30d = requests.get('https://economia.awesomeapi.com.br/json/daily/USD-BRL/30')\n",
    "cotacoes_dolar_dic = cotacoes_dolar30d.json()\n",
    "#print(cotacoes_dolar_dic[2]['bid'])\n",
    "lista_cotacoes_dolar = [item['bid'] for item in cotacoes_dolar_dic] # Nessa linha foi necessário criar esse list compreension para percorrer todo o dicionário, extrair uma informação para criar uma lista auxiliar. Poderia fazer isso apenas com for ao invés de usar o list compreension\n",
    "print(lista_cotacoes_dolar)"
   ]
  },
  {
   "cell_type": "code",
   "execution_count": null,
   "id": "c63ba65b-de6a-4631-96dc-fa5a5795041b",
   "metadata": {},
   "outputs": [],
   "source": []
  }
 ],
 "metadata": {
  "kernelspec": {
   "display_name": "Python [conda env:base] *",
   "language": "python",
   "name": "conda-base-py"
  },
  "language_info": {
   "codemirror_mode": {
    "name": "ipython",
    "version": 3
   },
   "file_extension": ".py",
   "mimetype": "text/x-python",
   "name": "python",
   "nbconvert_exporter": "python",
   "pygments_lexer": "ipython3",
   "version": "3.12.7"
  }
 },
 "nbformat": 4,
 "nbformat_minor": 5
}
